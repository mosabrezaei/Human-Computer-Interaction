{
  "nbformat": 4,
  "nbformat_minor": 0,
  "metadata": {
    "colab": {
      "provenance": []
    },
    "kernelspec": {
      "name": "python3",
      "display_name": "Python 3"
    },
    "language_info": {
      "name": "python"
    }
  },
  "cells": [
    {
      "cell_type": "code",
      "execution_count": null,
      "metadata": {
        "id": "rE7U3ypjzXEr"
      },
      "outputs": [],
      "source": [
        "from google.colab import drive\n",
        "drive.mount('/content/drive')"
      ]
    },
    {
      "cell_type": "code",
      "source": [
        "cd drive/MyDrive/HCI"
      ],
      "metadata": {
        "id": "dc96vS7Hzf1j"
      },
      "execution_count": null,
      "outputs": []
    },
    {
      "cell_type": "code",
      "source": [
        "ls"
      ],
      "metadata": {
        "colab": {
          "base_uri": "https://localhost:8080/"
        },
        "id": "OW83Vx_uGavX",
        "outputId": "a5fb7ac1-c00a-4599-8ee1-f9b80ffba8ad"
      },
      "execution_count": null,
      "outputs": [
        {
          "output_type": "stream",
          "name": "stdout",
          "text": [
            "Dataset.txt  Terrorism_Related_Words.xlsx\n"
          ]
        }
      ]
    },
    {
      "cell_type": "code",
      "source": [
        "# Reading the Dataset\n",
        "file_path = 'Dataset.txt'\n",
        "\n",
        "with open(file_path, 'r') as file:\n",
        "    file_content = file.read()"
      ],
      "metadata": {
        "id": "IKft9ya4CHdm"
      },
      "execution_count": null,
      "outputs": []
    },
    {
      "cell_type": "code",
      "source": [
        "import pandas as pd\n",
        "import re\n",
        "\n",
        "# Splitting the content into individual reports\n",
        "reports = file_content.split(\"REPORT\\n\")[1:]  # [1:] to skip the first empty split\n",
        "\n",
        "# Function to extract data from a report based on the given keys\n",
        "def extract_report_data(report):\n",
        "    keys = ['ID', 'REPORTDATE', 'REFERENCEID', 'REPORTSOURCE', 'REPORTDESCRIPTION', 'PERSONS', 'DATES', 'PLACES', 'ORGANIZATIONS']\n",
        "    report_data = {}\n",
        "\n",
        "    for key in keys:\n",
        "        # Using regular expression to find the corresponding value for each key\n",
        "        pattern = f\"{key}: (.*?)\\n\"\n",
        "        match = re.search(pattern, report, re.S)\n",
        "        report_data[key] = match.group(1).strip() if match else None\n",
        "\n",
        "    return report_data\n",
        "\n",
        "# Extracting data for each report\n",
        "extracted_data = [extract_report_data(report) for report in reports]\n",
        "\n",
        "# Creating a DataFrame from the extracted data\n",
        "df_reports = pd.DataFrame(extracted_data)\n",
        "\n"
      ],
      "metadata": {
        "id": "FakaEvcCHbMq"
      },
      "execution_count": null,
      "outputs": []
    },
    {
      "cell_type": "code",
      "source": [
        "# Displaying the first few rows of the DataFrame\n",
        "df_reports.head(4)"
      ],
      "metadata": {
        "id": "WAe04UxFFVzt"
      },
      "execution_count": null,
      "outputs": []
    },
    {
      "cell_type": "code",
      "source": [
        "Dataset_report_descriptions = df_reports[['REPORTDESCRIPTION']]"
      ],
      "metadata": {
        "id": "vVRIkbKrFV2m"
      },
      "execution_count": null,
      "outputs": []
    },
    {
      "cell_type": "code",
      "source": [
        "Dataset_report_descriptions.head(4)"
      ],
      "metadata": {
        "id": "1NKbZU--FV5V"
      },
      "execution_count": null,
      "outputs": []
    },
    {
      "cell_type": "code",
      "source": [
        "# Reading the Dataset\n",
        "file_path = 'Terrorism_Related_Words.xlsx'\n",
        "\n",
        "Terrorism_Related_Words = pd.read_excel(file_path)"
      ],
      "metadata": {
        "id": "rM4hlZj-20Bc"
      },
      "execution_count": null,
      "outputs": []
    },
    {
      "cell_type": "code",
      "source": [
        "Terrorism_Related_Words"
      ],
      "metadata": {
        "id": "FeJXhiPb20EO"
      },
      "execution_count": null,
      "outputs": []
    },
    {
      "cell_type": "code",
      "source": [
        "# KeyBERT:"
      ],
      "metadata": {
        "id": "qDJWHlmNA-_Z"
      },
      "execution_count": null,
      "outputs": []
    },
    {
      "cell_type": "code",
      "source": [
        "pip install keybert"
      ],
      "metadata": {
        "id": "UGt1OxRt-6x9"
      },
      "execution_count": null,
      "outputs": []
    },
    {
      "cell_type": "code",
      "source": [
        "from keybert import KeyBERT\n",
        "\n",
        "kw_model = KeyBERT()\n",
        "\n",
        "kw_model_multi = KeyBERT('paraphrase-multilingual-MiniLM-L12-v2')"
      ],
      "metadata": {
        "id": "zQU2eVp__dEp"
      },
      "execution_count": null,
      "outputs": []
    },
    {
      "cell_type": "code",
      "source": [
        "all_keywords = []\n",
        "\n",
        "for text in Dataset_report_descriptions[\"REPORTDESCRIPTION\"]:\n",
        "    temp = kw_model.extract_keywords(text, top_n=20)\n",
        "    all_keywords.append(temp)"
      ],
      "metadata": {
        "id": "5KOf0Q4QI9z4"
      },
      "execution_count": null,
      "outputs": []
    },
    {
      "cell_type": "code",
      "source": [
        "Dataset_report_descriptions[\"REPORTDESCRIPTION\"][0]"
      ],
      "metadata": {
        "id": "_pI9IZMv715_"
      },
      "execution_count": null,
      "outputs": []
    },
    {
      "cell_type": "code",
      "source": [
        "all_keywords[0]"
      ],
      "metadata": {
        "id": "tnsJZgyVJnhC"
      },
      "execution_count": null,
      "outputs": []
    },
    {
      "cell_type": "code",
      "source": [
        "len(all_keywords)"
      ],
      "metadata": {
        "colab": {
          "base_uri": "https://localhost:8080/"
        },
        "id": "9mQVKGTQKPQO",
        "outputId": "1ccf7801-b85e-4cc2-fae7-c4437242e388"
      },
      "execution_count": null,
      "outputs": [
        {
          "output_type": "execute_result",
          "data": {
            "text/plain": [
              "111"
            ]
          },
          "metadata": {},
          "execution_count": 121
        }
      ]
    },
    {
      "cell_type": "code",
      "source": [
        "len(all_keywords[0])"
      ],
      "metadata": {
        "colab": {
          "base_uri": "https://localhost:8080/"
        },
        "id": "RRdDhlAaKvzH",
        "outputId": "d664134e-2fb0-4e78-e0a2-60ba9ca566f2"
      },
      "execution_count": null,
      "outputs": [
        {
          "output_type": "execute_result",
          "data": {
            "text/plain": [
              "20"
            ]
          },
          "metadata": {},
          "execution_count": 122
        }
      ]
    },
    {
      "cell_type": "code",
      "source": [
        "from sentence_transformers import SentenceTransformer\n",
        "from sklearn.cluster import AgglomerativeClustering\n",
        "\n",
        "# Load pre-trained sentence transformer model\n",
        "s_model = SentenceTransformer('all-MiniLM-L6-v2')"
      ],
      "metadata": {
        "id": "c8J1DTkLLEru"
      },
      "execution_count": null,
      "outputs": []
    },
    {
      "cell_type": "code",
      "source": [
        "#embedding for Terrorism_Related_Words:"
      ],
      "metadata": {
        "id": "ssadUB9kBEgS"
      },
      "execution_count": null,
      "outputs": []
    },
    {
      "cell_type": "code",
      "source": [
        "threat_embeddings = s_model.encode(list(Terrorism_Related_Words['Word']))"
      ],
      "metadata": {
        "id": "9A4-Y2WPKvc5"
      },
      "execution_count": null,
      "outputs": []
    },
    {
      "cell_type": "code",
      "source": [
        "len(threat_embeddings)"
      ],
      "metadata": {
        "colab": {
          "base_uri": "https://localhost:8080/"
        },
        "id": "n_IQ8SPm944j",
        "outputId": "9ef6fcd4-da8c-4f55-ceda-f938a4d04559"
      },
      "execution_count": null,
      "outputs": [
        {
          "output_type": "execute_result",
          "data": {
            "text/plain": [
              "476"
            ]
          },
          "metadata": {},
          "execution_count": 126
        }
      ]
    },
    {
      "cell_type": "code",
      "source": [
        "#embedding for Dataset key words:"
      ],
      "metadata": {
        "id": "wAe8-sC8BI16"
      },
      "execution_count": null,
      "outputs": []
    },
    {
      "cell_type": "code",
      "source": [
        "Terrorism_Related_Words"
      ],
      "metadata": {
        "id": "jemQAVxZO24B"
      },
      "execution_count": null,
      "outputs": []
    },
    {
      "cell_type": "code",
      "source": [
        "all_keywords[0]"
      ],
      "metadata": {
        "id": "GlYXT8edSHc8"
      },
      "execution_count": null,
      "outputs": []
    },
    {
      "cell_type": "code",
      "source": [
        "from sentence_transformers import util"
      ],
      "metadata": {
        "id": "KitYdalvVykA"
      },
      "execution_count": null,
      "outputs": []
    },
    {
      "cell_type": "code",
      "source": [
        "# countingh the number of people:\n",
        "def count_names(names_string):\n",
        "    if names_string and names_string.strip():\n",
        "        names_list = names_string.split(';')\n",
        "        return len(names_list)\n",
        "    else:\n",
        "        return 0"
      ],
      "metadata": {
        "id": "M_CxFHZmjSOk"
      },
      "execution_count": null,
      "outputs": []
    },
    {
      "cell_type": "code",
      "source": [
        "# Find the most similar words from threat_levels for each word in data_keys\n",
        "\n",
        "final_threat_score = []\n",
        "final_threat_score\n",
        "dic = {}\n",
        "\n",
        "for j, keys in enumerate(all_keywords):\n",
        "    dic_temp = {}\n",
        "    keys_words = [t[0] for t in keys]\n",
        "    embedded_keys = s_model.encode(keys_words)\n",
        "    sum = 0\n",
        "    temp_level = []\n",
        "    each_word_score = []\n",
        "    for i, word in enumerate(keys_words):\n",
        "        word_score = []\n",
        "        # Compute cosine similarity between word embedding and threat embeddings\n",
        "        similarities = util.cos_sim(embedded_keys[i], threat_embeddings)\n",
        "        # Find the index of the highest similarity score\n",
        "        most_similar_idx = similarities[0].argmax().item()\n",
        "        # Get the similarity score\n",
        "        similarity_score = similarities[0][most_similar_idx].item()\n",
        "        # Get the most similar word and its threat level\n",
        "        most_similar_word = Terrorism_Related_Words['Word'][most_similar_idx]\n",
        "        threat_level =  Terrorism_Related_Words['Threat Level'][most_similar_idx]\n",
        "        # Print the most similar word, its threat level, and the similarity score\n",
        "\n",
        "        if similarity_score < 0.6:\n",
        "            word_score = round(threat_level * similarity_score)\n",
        "            sum = sum + word_score\n",
        "        else:\n",
        "            word_score = round(threat_level * threat_level)\n",
        "            sum = sum + word_score\n",
        "\n",
        "        each_word_score.append(word_score)\n",
        "\n",
        "    final_threat_score.append(sum)\n",
        "\n",
        "    dic_temp['ID'] = j\n",
        "    dic_temp['Report'] = df_reports['REPORTDESCRIPTION'][j]\n",
        "    dic_temp['Threat_Score_Person_0'] = sum\n",
        "    dic_temp['Threat_Score_Person_3'] = sum + (3 * count_names(df_reports['PERSONS'][j]))\n",
        "    dic_temp['Threat_Score_Person_6'] = sum + (6 * count_names(df_reports['PERSONS'][j]))\n",
        "    dic_temp['Threat_Score_Person_10'] = sum + (10 * count_names(df_reports['PERSONS'][j]))\n",
        "    dic_temp['Persons_Num'] = count_names(df_reports['PERSONS'][j])\n",
        "    dic_temp['Persons'] = df_reports['PERSONS'][j]\n",
        "    dic_temp['Places'] = df_reports['PLACES'][j]\n",
        "    dic_temp['Date'] = df_reports['REPORTDATE'][j]\n",
        "    dic_temp['Keywords'] = keys_words\n",
        "    dic_temp['Keywords_Score'] = each_word_score\n",
        "\n",
        "    dic[j] = dic_temp\n"
      ],
      "metadata": {
        "id": "l5GZbkaGK_E3"
      },
      "execution_count": null,
      "outputs": []
    },
    {
      "cell_type": "code",
      "source": [
        "answer = final_threat_score.index(max(final_threat_score))\n",
        "print(answer)"
      ],
      "metadata": {
        "colab": {
          "base_uri": "https://localhost:8080/"
        },
        "id": "LGTxN54ZNk9h",
        "outputId": "6790409b-87d3-4526-b7da-cb328d8965f5"
      },
      "execution_count": null,
      "outputs": [
        {
          "output_type": "stream",
          "name": "stdout",
          "text": [
            "11\n"
          ]
        }
      ]
    },
    {
      "cell_type": "code",
      "source": [
        "Dataset_report_descriptions[\"REPORTDESCRIPTION\"][answer]"
      ],
      "metadata": {
        "colab": {
          "base_uri": "https://localhost:8080/",
          "height": 91
        },
        "id": "kjTu4u73OUOa",
        "outputId": "386aced9-7b23-410f-b8cc-bcb47a92fb02"
      },
      "execution_count": null,
      "outputs": [
        {
          "output_type": "execute_result",
          "data": {
            "text/plain": [
              "\"A tip from an anonymous source directed investigators to a residence at 2111 Troost Ave. in Kansas City, Missouri. This source said that explosives were being manufactured at this residence by some terrorists who intended to blow up several buildings in the Kansas City Area. A warrant was obtained to search this residence on evidence provided by an examination of items found in garbage sacks that were picked up by an FBI officer posing as a garbage collector. Traces of chemicals necessary to produce explosives were found on items in this garbage. When this residence was searched on 22 December, 2003, one man, who gave his name as Walter Smith, was the only person at home. While the investigation was proceeding, another man entered and was apprehended. Subsequent identity checks revealed this man to be Jamal al Quso, who had come from Chicago to Kansas City. What was found at this residence were batches of hexamethylene triperoxide diamine [HMTD] and cyclotrimethylene trinitramine [RDX], both primary explosives. Also found were three garbage sacks full of urea and aluminum sulfate. In later investigations of this residence, detailed drawings were found of three popular casinos in the Kansas City area: the Argosy Riverside Casino, the Isle of Capri Casino, and Harrah's Casino.\""
            ],
            "application/vnd.google.colaboratory.intrinsic+json": {
              "type": "string"
            }
          },
          "metadata": {},
          "execution_count": 206
        }
      ]
    },
    {
      "cell_type": "code",
      "source": [
        "import heapq\n",
        "\n",
        "heapq.nlargest(4, final_threat_score)"
      ],
      "metadata": {
        "colab": {
          "base_uri": "https://localhost:8080/"
        },
        "id": "UkR_mCQNQkbA",
        "outputId": "dc17921c-cf30-48d8-c98b-aba091abed16"
      },
      "execution_count": null,
      "outputs": [
        {
          "output_type": "execute_result",
          "data": {
            "text/plain": [
              "[102, 94, 78, 72]"
            ]
          },
          "metadata": {},
          "execution_count": 207
        }
      ]
    },
    {
      "cell_type": "code",
      "source": [
        "answers = [final_threat_score.index(x) for x in heapq.nlargest(5, final_threat_score)]\n",
        "answers"
      ],
      "metadata": {
        "colab": {
          "base_uri": "https://localhost:8080/"
        },
        "id": "nUSiv7nPRJ3e",
        "outputId": "dc232218-f7c9-4c43-d307-f5816a976198"
      },
      "execution_count": null,
      "outputs": [
        {
          "output_type": "execute_result",
          "data": {
            "text/plain": [
              "[11, 52, 71, 33, 73]"
            ]
          },
          "metadata": {},
          "execution_count": 208
        }
      ]
    },
    {
      "cell_type": "code",
      "source": [
        "_ = [print(Dataset_report_descriptions[\"REPORTDESCRIPTION\"][x], \"\\n\") for x in answers]"
      ],
      "metadata": {
        "id": "u25Lbyl5RbCA"
      },
      "execution_count": null,
      "outputs": []
    },
    {
      "cell_type": "code",
      "source": [
        "import json\n",
        "\n",
        "with open(\"Dataset.json\", \"w\") as outfile:\n",
        "    json.dump(dic, outfile)"
      ],
      "metadata": {
        "id": "F3DmbLgXhNAF"
      },
      "execution_count": null,
      "outputs": []
    },
    {
      "cell_type": "code",
      "source": [
        "print(\"The End\")"
      ],
      "metadata": {
        "id": "pBZ1jVYtm_cS",
        "colab": {
          "base_uri": "https://localhost:8080/"
        },
        "outputId": "403359cf-b828-487e-bcb7-bee9f8065cb0"
      },
      "execution_count": null,
      "outputs": [
        {
          "output_type": "stream",
          "name": "stdout",
          "text": [
            "The End\n"
          ]
        }
      ]
    }
  ]
}